{
 "cells": [
  {
   "cell_type": "code",
   "execution_count": 2,
   "id": "8ef0a2de-113b-4898-8f13-e597aa507b87",
   "metadata": {},
   "outputs": [],
   "source": [
    "import pandas as pd\n",
    "df.to_sql(\"groupNpiDirectory.db\")"
   ]
  },
  {
   "cell_type": "code",
   "execution_count": null,
   "id": "f552d7ab-ec15-4acb-a2d4-fb1eae35fa03",
   "metadata": {},
   "outputs": [],
   "source": [
    "cur.con.cursor()\n",
    "cur.execute(\"CREATE TABLE npiSalesforce(groupNpi, tin)\"\n"
   ]
  }
 ],
 "metadata": {
  "kernelspec": {
   "display_name": "Python 3 (ipykernel)",
   "language": "python",
   "name": "python3"
  },
  "language_info": {
   "codemirror_mode": {
    "name": "ipython",
    "version": 3
   },
   "file_extension": ".py",
   "mimetype": "text/x-python",
   "name": "python",
   "nbconvert_exporter": "python",
   "pygments_lexer": "ipython3",
   "version": "3.9.6"
  }
 },
 "nbformat": 4,
 "nbformat_minor": 5
}
