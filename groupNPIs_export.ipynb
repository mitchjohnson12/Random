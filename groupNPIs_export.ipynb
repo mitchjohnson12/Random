{
 "cells": [
  {
   "cell_type": "code",
   "execution_count": 62,
   "id": "6f032974-9a31-41a1-8ed0-9532faa919b4",
   "metadata": {},
   "outputs": [
    {
     "name": "stderr",
     "output_type": "stream",
     "text": [
      "/var/folders/gn/lqpzq41d6pzbxzs9wj58d8_c0000gn/T/ipykernel_31354/3982865404.py:9: DtypeWarning: Columns (39,40) have mixed types. Specify dtype option on import or set low_memory=False.\n",
      "  df = pd.read_csv(path, usecols=cols)\n"
     ]
    }
   ],
   "source": [
    "import pandas as pd\n",
    "\n",
    "pd.set_option('display.max_rows', 10)\n",
    "\n",
    "pd.set_option('display.width', 1000)\n",
    "\n",
    "path = '/Users/mitchjohnson/Documents/NPPES/NPPES_Data_Dissemination_January_2024/npidata_pfile_20050523-20240107.csv'\n",
    "cols = ['Entity Type Code', 'NPI', 'Replacement NPI','Employer Identification Number (EIN)', 'Provider Organization Name (Legal Business Name)', 'Provider Enumeration Date', 'Last Update Date', 'NPI Deactivation Date', 'NPI Reactivation Date', 'Healthcare Provider Taxonomy Code_1', 'Healthcare Provider Taxonomy Code_2', 'Parent Organization TIN']\n",
    "df = pd.read_csv(path, usecols=cols)\n",
    "df.rename(columns={'Entity Type Code':'code', 'Employer Identification Number (EIN)':'ein'}, inplace=True)\n",
    "df = df[df.code == 2.0]"
   ]
  },
  {
   "cell_type": "code",
   "execution_count": 64,
   "id": "a456ed9f-8d22-407f-8199-6ad8c499a19e",
   "metadata": {},
   "outputs": [
    {
     "data": {
      "text/plain": [
       "(1683308, 12)"
      ]
     },
     "execution_count": 64,
     "metadata": {},
     "output_type": "execute_result"
    }
   ],
   "source": [
    "df.shape\n",
    "#df[df.ein != '<UNAVAIL>']"
   ]
  },
  {
   "cell_type": "code",
   "execution_count": null,
   "id": "564873ca-ef70-4cb3-a00b-43724f457ddc",
   "metadata": {},
   "outputs": [],
   "source": []
  },
  {
   "cell_type": "code",
   "execution_count": null,
   "id": "01f8a635-5d23-487f-90a7-491837b2556e",
   "metadata": {},
   "outputs": [],
   "source": []
  }
 ],
 "metadata": {
  "kernelspec": {
   "display_name": "Python 3 (ipykernel)",
   "language": "python",
   "name": "python3"
  },
  "language_info": {
   "codemirror_mode": {
    "name": "ipython",
    "version": 3
   },
   "file_extension": ".py",
   "mimetype": "text/x-python",
   "name": "python",
   "nbconvert_exporter": "python",
   "pygments_lexer": "ipython3",
   "version": "3.9.6"
  }
 },
 "nbformat": 4,
 "nbformat_minor": 5
}
